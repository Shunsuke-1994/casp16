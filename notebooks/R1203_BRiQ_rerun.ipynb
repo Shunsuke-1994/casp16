{
 "cells": [
  {
   "cell_type": "code",
   "execution_count": 1,
   "metadata": {},
   "outputs": [
    {
     "name": "stdout",
     "output_type": "stream",
     "text": [
      "/Users/sumishunsuke/Desktop/RNA/casp16\n"
     ]
    },
    {
     "name": "stderr",
     "output_type": "stream",
     "text": [
      "/Users/sumishunsuke/micromamba/envs/casp16/lib/python3.12/site-packages/IPython/core/magics/osm.py:417: UserWarning: using dhist requires you to install the `pickleshare` library.\n",
      "  self.shell.db['dhist'] = compress_dhist(dhist)[-100:]\n"
     ]
    }
   ],
   "source": [
    "%cd /Users/sumishunsuke/Desktop/RNA/casp16"
   ]
  },
  {
   "cell_type": "code",
   "execution_count": 7,
   "metadata": {},
   "outputs": [
    {
     "name": "stdout",
     "output_type": "stream",
     "text": [
      "857\n",
      "143\n",
      "['./datasets/casp16/R1203_newMXfold2_pdb/R1203_AF3_newMXfold2_FARFAR2/S_000004.pdb', './datasets/casp16/R1203_newMXfold2_pdb/R1203_AF3_newMXfold2_FARFAR2/S_000005.pdb', './datasets/casp16/R1203_newMXfold2_pdb/R1203_AF3_newMXfold2_FARFAR2/S_000010.pdb', './datasets/casp16/R1203_newMXfold2_pdb/R1203_AF3_newMXfold2_FARFAR2/S_000011.pdb', './datasets/casp16/R1203_newMXfold2_pdb/R1203_AF3_newMXfold2_FARFAR2/S_000038.pdb']\n"
     ]
    }
   ],
   "source": [
    "# finished files \n",
    "allpdb = !ls ./datasets/casp16/R1203_newMXfold2_pdb/R1203_AF3_newMXfold2_FARFAR2/*.pdb\n",
    "outfiles = !ls ./datasets/casp16/R1203_newMXfold2_pdb/R1203_AF3_newMXfold2_FARFAR2/*.briq.out\n",
    "\n",
    "outpdbs = [f.split('/')[-1].split('.')[0] for f in outfiles]    \n",
    "notoutpdb_pullpath = [f for f in allpdb if f.split('/')[-1].split('.')[0] not in outpdbs]\n",
    "print(len(outfiles))\n",
    "print(len(errorpdb))\n",
    "print(notoutpdb_pullpath[:5])\n"
   ]
  },
  {
   "cell_type": "code",
   "execution_count": 9,
   "metadata": {},
   "outputs": [],
   "source": [
    "import sys \n",
    "sys.path.append('/Users/sumishunsuke/Desktop/RNA/casp16')\n",
    "from src.score.RNA_BRiQ import RNA_BRiQ, process_pdb_file_eval\n",
    "from multiprocessing import Pool\n",
    "\n",
    "with Pool(7) as pool:\n",
    "    with Pool(7) as pool:\n",
    "        results = pool.map(process_pdb_file_eval, notoutpdb_pullpath)\n"
   ]
  },
  {
   "cell_type": "code",
   "execution_count": 10,
   "metadata": {},
   "outputs": [],
   "source": [
    "!say \"finish\""
   ]
  },
  {
   "cell_type": "code",
   "execution_count": 23,
   "metadata": {},
   "outputs": [
    {
     "name": "stdout",
     "output_type": "stream",
     "text": [
      "1000\n"
     ]
    }
   ],
   "source": [
    "# parse final lines of output files\n",
    "import pandas as pd\n",
    "import os\n",
    "\n",
    "all_outfiles = !ls ./datasets/casp16/R1203_newMXfold2_pdb/R1203_AF3_newMXfold2_FARFAR2/*.briq.out\n",
    "print(len(all_outfiles))\n",
    "\n",
    "pdb_names = [f.split('/')[-1].replace(\".briq.out\", \".pdb\") for f in all_outfiles]\n",
    "energies = []\n",
    "\n",
    "error_pdbs = []\n",
    "for out in all_outfiles:\n",
    "    with open(out, 'r') as f:\n",
    "        lines = f.readlines()\n",
    "        try:\n",
    "            energy = float(lines[-1].strip().replace(\"Energy: \", \"\"))\n",
    "            energies.append(energy)\n",
    "        except:\n",
    "            print(out)\n",
    "            error_pdbs.append(out.replace(\".briq.out\", \".pdb\"))\n",
    "\n",
    "        \n",
    "# rerun\n",
    "# with Pool(7) as pool:\n",
    "#     results = pool.map(process_pdb_file_eval, error_pdbs)\n",
    "df = pd.DataFrame({\"pdb\": pdb_names, \"energy\": energies})\n",
    "# df.to_csv(\"datasets/casp16/R1203_newMXfold2_pdb/R1203_AF3_newMXfold2_FARFAR2/scores/energies_RNABRiQ.txt\", index=False, sep=\" \")"
   ]
  },
  {
   "cell_type": "code",
   "execution_count": 24,
   "metadata": {},
   "outputs": [
    {
     "name": "stderr",
     "output_type": "stream",
     "text": [
      "/Users/sumishunsuke/Desktop/RNA/casp16/scripts/eval_scores.py:29: ParserWarning: Falling back to the 'python' engine because the 'c' engine does not support regex separators (separators > 1 char and different from '\\s+' are interpreted as regex); you can avoid this warning by specifying engine='python'.\n",
      "  df = pd.read_table(os.path.join(out_dir, score_file), sep=\"     \", header=None)\n",
      "/Users/sumishunsuke/Desktop/RNA/casp16/scripts/eval_scores.py:29: ParserWarning: Falling back to the 'python' engine because the 'c' engine does not support regex separators (separators > 1 char and different from '\\s+' are interpreted as regex); you can avoid this warning by specifying engine='python'.\n",
      "  df = pd.read_table(os.path.join(out_dir, score_file), sep=\"     \", header=None)\n",
      "/Users/sumishunsuke/Desktop/RNA/casp16/scripts/eval_scores.py:29: ParserWarning: Falling back to the 'python' engine because the 'c' engine does not support regex separators (separators > 1 char and different from '\\s+' are interpreted as regex); you can avoid this warning by specifying engine='python'.\n",
      "  df = pd.read_table(os.path.join(out_dir, score_file), sep=\"     \", header=None)\n",
      "/Users/sumishunsuke/Desktop/RNA/casp16/scripts/eval_scores.py:29: ParserWarning: Falling back to the 'python' engine because the 'c' engine does not support regex separators (separators > 1 char and different from '\\s+' are interpreted as regex); you can avoid this warning by specifying engine='python'.\n",
      "  df = pd.read_table(os.path.join(out_dir, score_file), sep=\"     \", header=None)\n"
     ]
    }
   ],
   "source": [
    "from scripts.eval_scores import summarize_scores\n",
    "# summarize_scores(\"datasets/casp16/R1203_newMXfold2_pdb/R1203_AF3_newMXfold2_FARFAR2/scores/\")"
   ]
  },
  {
   "cell_type": "code",
   "execution_count": null,
   "metadata": {},
   "outputs": [],
   "source": []
  }
 ],
 "metadata": {
  "kernelspec": {
   "display_name": "Python 3",
   "language": "python",
   "name": "python3"
  },
  "language_info": {
   "codemirror_mode": {
    "name": "ipython",
    "version": 3
   },
   "file_extension": ".py",
   "mimetype": "text/x-python",
   "name": "python",
   "nbconvert_exporter": "python",
   "pygments_lexer": "ipython3",
   "version": "3.12.3"
  }
 },
 "nbformat": 4,
 "nbformat_minor": 2
}
