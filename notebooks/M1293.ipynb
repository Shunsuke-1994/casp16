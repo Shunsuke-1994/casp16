{
 "cells": [
  {
   "cell_type": "code",
   "execution_count": 1,
   "metadata": {},
   "outputs": [
    {
     "name": "stdout",
     "output_type": "stream",
     "text": [
      "/Users/sumishunsuke/Desktop/RNA/casp16\n"
     ]
    }
   ],
   "source": [
    "%cd ~/desktop/RNA/casp16\n",
    "casp_id = \"M1293\"\n",
    "pdb_dir=f\"./datasets/casp16/{casp_id}/zdock/pdb\""
   ]
  },
  {
   "cell_type": "markdown",
   "metadata": {},
   "source": [
    "# energy (R1293, M1293で同じ)"
   ]
  },
  {
   "cell_type": "code",
   "execution_count": 2,
   "metadata": {},
   "outputs": [
    {
     "name": "stdout",
     "output_type": "stream",
     "text": [
      "    1000\n",
      "['zdock.S_000485-top1.pdb', 'zdock.S_000815-top1.pdb', 'zdock.S_000484-top1.pdb', 'zdock.S_000814-top1.pdb']\n"
     ]
    }
   ],
   "source": [
    "!ls {pdb_dir}/*pdb | wc -l\n",
    "\n",
    "!python ./scripts/eval_scores.py --pdb_dir {pdb_dir} --out_dir {pdb_dir} --cpu 6"
   ]
  },
  {
   "cell_type": "code",
   "execution_count": 3,
   "metadata": {},
   "outputs": [
    {
     "data": {
      "text/plain": [
       "['S_000001', 'S_000002', 'S_000003']"
      ]
     },
     "execution_count": 3,
     "metadata": {},
     "output_type": "execute_result"
    }
   ],
   "source": [
    "all_pdb_ids = !ls {pdb_dir}/*pdb | xargs -n 1 basename | cut -d. -f2 | cut -d- -f1\n",
    "all_pdb_ids[:3]"
   ]
  },
  {
   "cell_type": "code",
   "execution_count": 4,
   "metadata": {},
   "outputs": [
    {
     "name": "stdout",
     "output_type": "stream",
     "text": [
      "1000\n",
      "1000 0\n"
     ]
    }
   ],
   "source": [
    "# re-proc\n",
    "\n",
    "all_pdb_ids = !ls {pdb_dir}/*pdb | xargs -n 1 basename | cut -d. -f2 | cut -d- -f1\n",
    "print(len(all_pdb_ids))\n",
    "\n",
    "energies = {}\n",
    "unprocessed = []\n",
    "for pdb_id in all_pdb_ids:\n",
    "    f = f\"{pdb_dir}/zdock.{pdb_id}-top1.briq.out\"\n",
    "    try:\n",
    "        with open(f) as fh: lines = fh.readlines()\n",
    "        energies[f] = float(lines[-1].strip().replace(\"Energy: \", \"\"))\n",
    "    except:\n",
    "        unprocessed.append(pdb_id)\n",
    "\n",
    "print(len(energies), len(unprocessed))"
   ]
  },
  {
   "cell_type": "code",
   "execution_count": 21,
   "metadata": {},
   "outputs": [],
   "source": [
    "# import sys\n",
    "# sys.path.append(\"./\")\n",
    "# from src.score import RNA_BRiQ\n",
    "# from multiprocessing import Pool\n",
    "\n",
    "# with Pool(3) as pool:\n",
    "#     results = pool.map(\n",
    "#         RNA_BRiQ.process_pdb_file_eval,\n",
    "#         [f\"{pdb_dir}/zdock.{pdb_id}-top1.pdb\" for pdb_id in unprocessed]\n",
    "#         )"
   ]
  },
  {
   "cell_type": "markdown",
   "metadata": {},
   "source": [
    "# energy書き出し"
   ]
  },
  {
   "cell_type": "code",
   "execution_count": 6,
   "metadata": {},
   "outputs": [
    {
     "data": {
      "text/html": [
       "<div>\n",
       "<style scoped>\n",
       "    .dataframe tbody tr th:only-of-type {\n",
       "        vertical-align: middle;\n",
       "    }\n",
       "\n",
       "    .dataframe tbody tr th {\n",
       "        vertical-align: top;\n",
       "    }\n",
       "\n",
       "    .dataframe thead th {\n",
       "        text-align: right;\n",
       "    }\n",
       "</style>\n",
       "<table border=\"1\" class=\"dataframe\">\n",
       "  <thead>\n",
       "    <tr style=\"text-align: right;\">\n",
       "      <th></th>\n",
       "      <th>pdb</th>\n",
       "      <th>BRiQscore</th>\n",
       "    </tr>\n",
       "  </thead>\n",
       "  <tbody>\n",
       "    <tr>\n",
       "      <th>0</th>\n",
       "      <td>S_000001</td>\n",
       "      <td>-109.946</td>\n",
       "    </tr>\n",
       "    <tr>\n",
       "      <th>1</th>\n",
       "      <td>S_000002</td>\n",
       "      <td>-150.769</td>\n",
       "    </tr>\n",
       "    <tr>\n",
       "      <th>2</th>\n",
       "      <td>S_000003</td>\n",
       "      <td>-102.537</td>\n",
       "    </tr>\n",
       "  </tbody>\n",
       "</table>\n",
       "</div>"
      ],
      "text/plain": [
       "        pdb  BRiQscore\n",
       "0  S_000001   -109.946\n",
       "1  S_000002   -150.769\n",
       "2  S_000003   -102.537"
      ]
     },
     "execution_count": 6,
     "metadata": {},
     "output_type": "execute_result"
    }
   ],
   "source": [
    "out_files = !ls {pdb_dir}/*briq.out\n",
    "\n",
    "pdb_energy = {}\n",
    "for out in out_files:\n",
    "    with open(out) as fh: \n",
    "        lines = fh.readlines()\n",
    "    energies = float(lines[-1].strip().replace(\"Energy: \", \"\"))\n",
    "    basename = out.split(\"/\")[-1].replace(\"-top1.briq.out\", \"\").replace(\"zdock.\", \"\")\n",
    "    pdb_energy[basename] = energies\n",
    "\n",
    "\n",
    "# pdb_energy[\"S_000001\"]\n",
    "\n",
    "import pandas as pd\n",
    "df_briq = pd.DataFrame(pdb_energy.items(), columns=[\"pdb\", \"BRiQscore\"])\n",
    "df_briq.head(3)"
   ]
  },
  {
   "cell_type": "code",
   "execution_count": 7,
   "metadata": {},
   "outputs": [
    {
     "name": "stdout",
     "output_type": "stream",
     "text": [
      "                       pdb  ZDOCKscore\n",
      "0  zdock.S_000001-top1.pdb    3023.405\n",
      "1  zdock.S_000002-top1.pdb    3127.552\n",
      "2  zdock.S_000003-top1.pdb    2971.157\n"
     ]
    }
   ],
   "source": [
    "df_zdock = pd.read_csv(f\"{pdb_dir}/ZDOCKscore.csv\", header=None)\n",
    "df_zdock.columns = [\"pdb\", \"ZDOCKscore\"]\n",
    "print(df_zdock.head(3))"
   ]
  },
  {
   "cell_type": "code",
   "execution_count": 10,
   "metadata": {},
   "outputs": [
    {
     "name": "stdout",
     "output_type": "stream",
     "text": [
      "(1000, 3)\n",
      "        pdb  BRiQscore  ZDOCKscore\n",
      "0  S_000001   -109.946    3023.405\n",
      "1  S_000002   -150.769    3127.552\n",
      "2  S_000003   -102.537    2971.157\n",
      "3  S_000004   -124.301    3082.959\n",
      "4  S_000005   -144.826    2847.113\n"
     ]
    }
   ],
   "source": [
    "import pandas as pd \n",
    "df_zdock = pd.read_csv(f\"{pdb_dir}/ZDOCKscore.csv\", header=None)\n",
    "df_zdock.columns = [\"pdb\", \"ZDOCKscore\"]\n",
    "df_zdock[\"pdb\"] = [f.split(\"/\")[-1].replace(\"zdock.\", \"\").replace(\"-top1.pdb\", \"\") for f in df_zdock[\"pdb\"]]\n",
    "df = pd.merge(df_briq, df_zdock, on=\"pdb\")\n",
    "print(df.shape)\n",
    "print(df.head())\n",
    "\n",
    "\n",
    "df.to_csv(f\"{pdb_dir}/{casp_id}_scores.csv\", index=False)"
   ]
  },
  {
   "cell_type": "code",
   "execution_count": 12,
   "metadata": {},
   "outputs": [
    {
     "name": "stdout",
     "output_type": "stream",
     "text": [
      "(439, 3)\n"
     ]
    },
    {
     "data": {
      "image/png": "[encoded data removed]",
      "text/plain": [
       "<Figure size 500x300 with 1 Axes>"
      ]
     },
     "metadata": {},
     "output_type": "display_data"
    }
   ],
   "source": [
    "import pandas as pd\n",
    "import os\n",
    "import matplotlib.pyplot as plt\n",
    "\n",
    "df_scores = pd.read_csv(f\"{pdb_dir}/{casp_id}_scores.csv\")\n",
    "\n",
    "\n",
    "n_take = 250\n",
    "df_briq_top = df_scores.sort_values(\"BRiQscore\", ascending=True).head(n_take)\n",
    "df_zdock_top = df_scores.sort_values(\"ZDOCKscore\", ascending=True).tail(n_take)\n",
    "df_both_top = pd.concat([df_briq_top, df_zdock_top]).drop_duplicates()\n",
    "\n",
    "\n",
    "plt.figure(figsize=(5,3))\n",
    "plt.scatter(df_scores[\"BRiQscore\"], df_scores[\"ZDOCKscore\"], marker=\".\")\n",
    "# plt.scatter(df_both_top[\"BRiQscore\"], df_both_top[\"ZDOCKscore\"], marker=\".\", color=\"orange\", label=f\"Top {n_take}\")\n",
    "# plt.legend()\n",
    "plt.xlabel(\"BRiQscore\")\n",
    "plt.ylabel(\"ZDOCKscore\")\n",
    "plt.title(f\"RNA_BRiQ vs ZDOCK ({casp_id})\")\n",
    "\n",
    "print(df_both_top.shape)\n",
    "plt.tight_layout()\n",
    "plt.savefig(f\"{pdb_dir}/{casp_id}_scores.pdf\")"
   ]
  },
  {
   "cell_type": "code",
   "execution_count": 14,
   "metadata": {},
   "outputs": [],
   "source": [
    "# for i,row in df_both_top.iterrows():\n",
    "#     pdb = row[\"pdb\"]\n",
    "#     !cp {pdb_dir}/zdock.{pdb}-top1.pdb datasets/casp16/M1282/zdock/top_pdb"
   ]
  }
 ],
 "metadata": {
  "kernelspec": {
   "display_name": "Python 3",
   "language": "python",
   "name": "python3"
  },
  "language_info": {
   "codemirror_mode": {
    "name": "ipython",
    "version": 3
   },
   "file_extension": ".py",
   "mimetype": "text/x-python",
   "name": "python",
   "nbconvert_exporter": "python",
   "pygments_lexer": "ipython3",
   "version": "3.12.3"
  }
 },
 "nbformat": 4,
 "nbformat_minor": 2
}
