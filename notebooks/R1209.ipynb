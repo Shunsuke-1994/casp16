{
 "cells": [
  {
   "cell_type": "code",
   "execution_count": 4,
   "metadata": {},
   "outputs": [
    {
     "name": "stdout",
     "output_type": "stream",
     "text": [
      "/Users/sumishunsuke/Desktop/RNA/casp16\n"
     ]
    }
   ],
   "source": [
    "%cd ~/desktop/RNA/casp16\n",
    "!source ~/.bash_profile"
   ]
  },
  {
   "cell_type": "markdown",
   "metadata": {
    "vscode": {
     "languageId": "plaintext"
    }
   },
   "source": [
    "# R1209のenergy計算"
   ]
  },
  {
   "cell_type": "code",
   "execution_count": 2,
   "metadata": {},
   "outputs": [
    {
     "name": "stdout",
     "output_type": "stream",
     "text": [
      "    1000\n"
     ]
    }
   ],
   "source": [
    "ls ./datasets/casp16/R1209/pdb/*pdb | wc -l"
   ]
  },
  {
   "cell_type": "code",
   "execution_count": 3,
   "metadata": {},
   "outputs": [
    {
     "name": "stdout",
     "output_type": "stream",
     "text": [
      "/Users/sumishunsuke/micromamba/envs/casp16/bin:/opt/homebrew/bin:/opt/homebrew/sbin:/Users/sumishunsuke/micromamba/envs/casp16/bin:/Users/sumishunsuke/opt/miniconda3/condabin:/usr/local/bin:/System/Cryptexes/App/usr/bin:/usr/bin:/bin:/usr/sbin:/sbin:/var/run/com.apple.security.cryptexd/codex.system/bootstrap/usr/local/bin:/var/run/com.apple.security.cryptexd/codex.system/bootstrap/usr/bin:/var/run/com.apple.security.cryptexd/codex.system/bootstrap/usr/appleinternal/bin:/Library/TeX/texbin:/Users/sumishunsuke/Desktop/RNA/agobec/reditools2.0/src/cineca:/Users/sumishunsuke/opt/miniconda3/envs/r2r/bin:/Users/sumishunsuke/desktop/RNA/plmc/bin:/Users/sumishunsuke/desktop/RNA/rosetta.source.release-362/main/source/bin:/Users/sumishunsuke/desktop/RNA/motifex/RNA-BRiQ/build/bin:/Users/sumishunsuke/desktop/RNA/RNAmake/rnamake/lib/RNAMake/cmake/build:/Users/sumishunsuke/desktop/RNA/RNAmake/rnamake/bin:/Users/sumishunsuke/desktop/RNA/motifex/resources/x3dna/bin\n"
     ]
    }
   ],
   "source": [
    "!echo $PATH | grep BRiQ\n"
   ]
  },
  {
   "cell_type": "code",
   "execution_count": 3,
   "metadata": {},
   "outputs": [
    {
     "name": "stdout",
     "output_type": "stream",
     "text": [
      "['S_000668.pdb', 'S_000654.pdb', 'S_000132.pdb', 'S_000126.pdb']\n",
      "multiprocessing.pool.RemoteTraceback: \n",
      "\"\"\"\n",
      "Traceback (most recent call last):\n",
      "  File \"/Users/sumishunsuke/micromamba/envs/casp16/lib/python3.12/multiprocessing/pool.py\", line 125, in worker\n",
      "    result = (True, func(*args, **kwds))\n",
      "                    ^^^^^^^^^^^^^^^^^^^\n",
      "  File \"/Users/sumishunsuke/micromamba/envs/casp16/lib/python3.12/multiprocessing/pool.py\", line 48, in mapstar\n",
      "    return list(map(*args))\n",
      "           ^^^^^^^^^^^^^^^^\n",
      "  File \"/Users/sumishunsuke/Desktop/RNA/casp16/./src/score/RNA_BRiQ.py\", line 50, in process_pdb_file_eval\n",
      "    briq.AssignSS()\n",
      "  File \"/Users/sumishunsuke/Desktop/RNA/casp16/./src/score/RNA_BRiQ.py\", line 20, in AssignSS\n",
      "    with open(self.briq_input, \"r\") as f:\n",
      "         ^^^^^^^^^^^^^^^^^^^^^^^^^^\n",
      "FileNotFoundError: [Errno 2] No such file or directory: './datasets/casp16/R1209/pdb/S_000906.briq.in'\n",
      "\"\"\"\n",
      "\n",
      "The above exception was the direct cause of the following exception:\n",
      "\n",
      "Traceback (most recent call last):\n",
      "  File \"/Users/sumishunsuke/Desktop/RNA/casp16/./scripts/eval_scores.py\", line 82, in <module>\n",
      "    main()\n",
      "  File \"/Users/sumishunsuke/Desktop/RNA/casp16/./scripts/eval_scores.py\", line 65, in main\n",
      "    res_rnabriq = RNA_BRiQ.RNA_BRiQ_eval_batch(args.pdb_dir, args.out_dir)\n",
      "                  ^^^^^^^^^^^^^^^^^^^^^^^^^^^^^^^^^^^^^^^^^^^^^^^^^^^^^^^^\n",
      "  File \"/Users/sumishunsuke/Desktop/RNA/casp16/./src/score/RNA_BRiQ.py\", line 59, in RNA_BRiQ_eval_batch\n",
      "    results = pool.map(process_pdb_file_eval, pdb_files)\n",
      "              ^^^^^^^^^^^^^^^^^^^^^^^^^^^^^^^^^^^^^^^^^^\n",
      "  File \"/Users/sumishunsuke/micromamba/envs/casp16/lib/python3.12/multiprocessing/pool.py\", line 367, in map\n",
      "    return self._map_async(func, iterable, mapstar, chunksize).get()\n",
      "           ^^^^^^^^^^^^^^^^^^^^^^^^^^^^^^^^^^^^^^^^^^^^^^^^^^^^^^^^^\n",
      "  File \"/Users/sumishunsuke/micromamba/envs/casp16/lib/python3.12/multiprocessing/pool.py\", line 774, in get\n",
      "    raise self._value\n",
      "FileNotFoundError: [Errno 2] No such file or directory: './datasets/casp16/R1209/pdb/S_000906.briq.in'\n"
     ]
    }
   ],
   "source": [
    "pdb_dir=\"./datasets/casp16/R1209/pdb\"\n",
    "!python ./scripts/eval_scores.py --pdb_dir {pdb_dir} --out_dir {pdb_dir}"
   ]
  },
  {
   "cell_type": "markdown",
   "metadata": {},
   "source": [
    "# R1209の距離計算, MDS"
   ]
  },
  {
   "cell_type": "markdown",
   "metadata": {},
   "source": []
  }
 ],
 "metadata": {
  "kernelspec": {
   "display_name": "Python 3",
   "language": "python",
   "name": "python3"
  },
  "language_info": {
   "codemirror_mode": {
    "name": "ipython",
    "version": 3
   },
   "file_extension": ".py",
   "mimetype": "text/x-python",
   "name": "python",
   "nbconvert_exporter": "python",
   "pygments_lexer": "ipython3",
   "version": "3.12.3"
  }
 },
 "nbformat": 4,
 "nbformat_minor": 2
}
