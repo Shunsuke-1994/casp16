{
 "cells": [
  {
   "cell_type": "code",
   "execution_count": 4,
   "metadata": {},
   "outputs": [
    {
     "name": "stdout",
     "output_type": "stream",
     "text": [
      "/Users/sumishunsuke/Desktop/RNA/casp16\n"
     ]
    }
   ],
   "source": [
    "%cd ~/desktop/RNA/casp16\n",
    "!source ~/.bash_profile"
   ]
  },
  {
   "cell_type": "markdown",
   "metadata": {
    "vscode": {
     "languageId": "plaintext"
    }
   },
   "source": [
    "# R1209のenergy計算"
   ]
  },
  {
   "cell_type": "code",
   "execution_count": 5,
   "metadata": {},
   "outputs": [
    {
     "name": "stdout",
     "output_type": "stream",
     "text": [
      "    1000\n"
     ]
    }
   ],
   "source": [
    "ls ./datasets/casp16/R1209/pdb/*pdb | wc -l"
   ]
  },
  {
   "cell_type": "code",
   "execution_count": 6,
   "metadata": {},
   "outputs": [
    {
     "name": "stdout",
     "output_type": "stream",
     "text": [
      "^C\n"
     ]
    }
   ],
   "source": [
    "!echo $PATH | grep BRiQ\n"
   ]
  },
  {
   "cell_type": "code",
   "execution_count": null,
   "metadata": {},
   "outputs": [
    {
     "name": "stdout",
     "output_type": "stream",
     "text": [
      "['S_000668.pdb', 'S_000654.pdb', 'S_000132.pdb', 'S_000126.pdb']\n",
      "Traceback (most recent call last):\n",
      "  File \"/Users/sumishunsuke/Desktop/RNA/casp16/./scripts/eval_scores.py\", line 82, in <module>\n",
      "    main()\n",
      "  File \"/Users/sumishunsuke/Desktop/RNA/casp16/./scripts/eval_scores.py\", line 78, in main\n",
      "    summarize_scores(args.out_dir)\n",
      "  File \"/Users/sumishunsuke/Desktop/RNA/casp16/./scripts/eval_scores.py\", line 34, in summarize_scores\n",
      "    df = pd.read_table(os.path.join(out_dir, score_file), sep=\" \", header=None)\n",
      "         ^^^^^^^^^^^^^^^^^^^^^^^^^^^^^^^^^^^^^^^^^^^^^^^^^^^^^^^^^^^^^^^^^^^^^^\n",
      "  File \"/Users/sumishunsuke/micromamba/envs/casp16/lib/python3.12/site-packages/pandas/io/parsers/readers.py\", line 1405, in read_table\n",
      "    return _read(filepath_or_buffer, kwds)\n",
      "           ^^^^^^^^^^^^^^^^^^^^^^^^^^^^^^^\n",
      "  File \"/Users/sumishunsuke/micromamba/envs/casp16/lib/python3.12/site-packages/pandas/io/parsers/readers.py\", line 620, in _read\n",
      "    parser = TextFileReader(filepath_or_buffer, **kwds)\n",
      "             ^^^^^^^^^^^^^^^^^^^^^^^^^^^^^^^^^^^^^^^^^^\n",
      "  File \"/Users/sumishunsuke/micromamba/envs/casp16/lib/python3.12/site-packages/pandas/io/parsers/readers.py\", line 1620, in __init__\n",
      "    self._engine = self._make_engine(f, self.engine)\n",
      "                   ^^^^^^^^^^^^^^^^^^^^^^^^^^^^^^^^^\n",
      "  File \"/Users/sumishunsuke/micromamba/envs/casp16/lib/python3.12/site-packages/pandas/io/parsers/readers.py\", line 1898, in _make_engine\n",
      "    return mapping[engine](f, **self.options)\n",
      "           ^^^^^^^^^^^^^^^^^^^^^^^^^^^^^^^^^^\n",
      "  File \"/Users/sumishunsuke/micromamba/envs/casp16/lib/python3.12/site-packages/pandas/io/parsers/c_parser_wrapper.py\", line 93, in __init__\n",
      "    self._reader = parsers.TextReader(src, **kwds)\n",
      "                   ^^^^^^^^^^^^^^^^^^^^^^^^^^^^^^^\n",
      "  File \"parsers.pyx\", line 581, in pandas._libs.parsers.TextReader.__cinit__\n",
      "pandas.errors.EmptyDataError: No columns to parse from file\n"
     ]
    }
   ],
   "source": [
    "pdb_dir=\"./datasets/casp16/R1209/pdb\"\n",
    "!python ./scripts/eval_scores.py --pdb_dir {pdb_dir} --out_dir {pdb_dir}"
   ]
  },
  {
   "cell_type": "code",
   "execution_count": null,
   "metadata": {},
   "outputs": [],
   "source": [
    "briq_out_files = !ls {pdb_dir}/*out\n",
    "\n",
    "\n",
    "energies = {}\n",
    "for f in briq_out_files:\n",
    "    with open(f) as fh: lines = fh.readlines()\n",
    "    energies[f] = float(lines[-1].strip().replace(\"Energy: \", \"\"))"
   ]
  },
  {
   "cell_type": "code",
   "execution_count": null,
   "metadata": {},
   "outputs": [
    {
     "data": {
      "text/plain": [
       "-112.322"
      ]
     },
     "execution_count": 10,
     "metadata": {},
     "output_type": "execute_result"
    }
   ],
   "source": [
    "energies[\"./datasets/casp16/R1209/pdb/S_000001.briq.out\"]"
   ]
  },
  {
   "cell_type": "code",
   "execution_count": null,
   "metadata": {},
   "outputs": [
    {
     "data": {
      "text/html": [
       "<div>\n",
       "<style scoped>\n",
       "    .dataframe tbody tr th:only-of-type {\n",
       "        vertical-align: middle;\n",
       "    }\n",
       "\n",
       "    .dataframe tbody tr th {\n",
       "        vertical-align: top;\n",
       "    }\n",
       "\n",
       "    .dataframe thead th {\n",
       "        text-align: right;\n",
       "    }\n",
       "</style>\n",
       "<table border=\"1\" class=\"dataframe\">\n",
       "  <thead>\n",
       "    <tr style=\"text-align: right;\">\n",
       "      <th></th>\n",
       "      <th>pdb</th>\n",
       "      <th>energy</th>\n",
       "    </tr>\n",
       "  </thead>\n",
       "  <tbody>\n",
       "    <tr>\n",
       "      <th>0</th>\n",
       "      <td>S_000668.pdb</td>\n",
       "      <td>-76.8285</td>\n",
       "    </tr>\n",
       "    <tr>\n",
       "      <th>1</th>\n",
       "      <td>S_000654.pdb</td>\n",
       "      <td>-106.5870</td>\n",
       "    </tr>\n",
       "    <tr>\n",
       "      <th>2</th>\n",
       "      <td>S_000132.pdb</td>\n",
       "      <td>-132.3820</td>\n",
       "    </tr>\n",
       "    <tr>\n",
       "      <th>3</th>\n",
       "      <td>S_000126.pdb</td>\n",
       "      <td>-140.0470</td>\n",
       "    </tr>\n",
       "  </tbody>\n",
       "</table>\n",
       "</div>"
      ],
      "text/plain": [
       "            pdb    energy\n",
       "0  S_000668.pdb  -76.8285\n",
       "1  S_000654.pdb -106.5870\n",
       "2  S_000132.pdb -132.3820\n",
       "3  S_000126.pdb -140.0470"
      ]
     },
     "execution_count": 14,
     "metadata": {},
     "output_type": "execute_result"
    }
   ],
   "source": [
    "import pandas as pd\n",
    "import os\n",
    "\n",
    "df = pd.read_table(os.path.join(pdb_dir, \"energies_RNABRiQ.txt\"), sep=\" \")\n",
    "df.head(4)\n"
   ]
  },
  {
   "cell_type": "markdown",
   "metadata": {},
   "source": [
    "# R1209の距離計算, MDS"
   ]
  },
  {
   "cell_type": "code",
   "execution_count": null,
   "metadata": {},
   "outputs": [],
   "source": [
    "pdb_dir=\"./datasets/casp16/R1209/pdb\"\n",
    "from Bio import PDB\n",
    "import numpy as np\n",
    "import matplotlib.pyplot as plt\n",
    "from Bio.PDB import PDBParser, Superimposer\n",
    "from sklearn.manifold import MDS\n",
    "import os\n",
    "import pandas as pd\n",
    "import warnings\n",
    "warnings.filterwarnings('ignore')"
   ]
  },
  {
   "cell_type": "code",
   "execution_count": 22,
   "metadata": {},
   "outputs": [
    {
     "name": "stdout",
     "output_type": "stream",
     "text": [
      "/Users/sumishunsuke/Desktop/RNA/casp16\n",
      "Number of pdb files: 60\n",
      "RMSD matrix saved\n",
      "\n",
      "real\t0m22.603s\n",
      "user\t1m45.754s\n",
      "sys\t0m1.194s\n"
     ]
    }
   ],
   "source": [
    "%cd ~/desktop/RNA/casp16\n",
    "!time python scripts/calc_rmsd.py --pdb_dir datasets/casp16/R1209/pdb --cpu 8"
   ]
  },
  {
   "cell_type": "code",
   "execution_count": null,
   "metadata": {},
   "outputs": [],
   "source": []
  }
 ],
 "metadata": {
  "kernelspec": {
   "display_name": "Python 3",
   "language": "python",
   "name": "python3"
  },
  "language_info": {
   "codemirror_mode": {
    "name": "ipython",
    "version": 3
   },
   "file_extension": ".py",
   "mimetype": "text/x-python",
   "name": "python",
   "nbconvert_exporter": "python",
   "pygments_lexer": "ipython3",
   "version": "3.12.3"
  }
 },
 "nbformat": 4,
 "nbformat_minor": 2
}
